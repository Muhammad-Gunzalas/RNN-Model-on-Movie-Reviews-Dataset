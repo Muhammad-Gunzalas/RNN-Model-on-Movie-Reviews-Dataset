{
  "nbformat": 4,
  "nbformat_minor": 0,
  "metadata": {
    "colab": {
      "provenance": [],
      "mount_file_id": "1YK5fbmw0ztEaiDp2UCqHi1ifh7egvO5i",
      "authorship_tag": "ABX9TyNp9qNmXLXu8+LcBG1mGklP",
      "include_colab_link": true
    },
    "kernelspec": {
      "name": "python3",
      "display_name": "Python 3"
    },
    "language_info": {
      "name": "python"
    }
  },
  "cells": [
    {
      "cell_type": "markdown",
      "metadata": {
        "id": "view-in-github",
        "colab_type": "text"
      },
      "source": [
        "<a href=\"https://colab.research.google.com/github/Muhammad-Gunzalas/RNN-Model-on-Movie-Reviews-Dataset/blob/main/GRU.ipynb\" target=\"_parent\"><img src=\"https://colab.research.google.com/assets/colab-badge.svg\" alt=\"Open In Colab\"/></a>"
      ]
    },
    {
      "cell_type": "code",
      "source": [
        "import numpy as np"
      ],
      "metadata": {
        "id": "FZqFv2BVfUdM"
      },
      "execution_count": null,
      "outputs": []
    },
    {
      "cell_type": "code",
      "execution_count": null,
      "metadata": {
        "id": "Z5ekDM5hWjoc",
        "colab": {
          "base_uri": "https://localhost:8080/"
        },
        "outputId": "19f56be7-b1c0-4cf5-bcf3-c468c965821a"
      },
      "outputs": [
        {
          "output_type": "stream",
          "name": "stdout",
          "text": [
            "--2022-10-19 19:10:27--  https://www.dropbox.com/s/pdhwlpi2yeie0ol/movie-reviews-dataset.zip\n",
            "Resolving www.dropbox.com (www.dropbox.com)... 162.125.3.18, 2620:100:6021:18::a27d:4112\n",
            "Connecting to www.dropbox.com (www.dropbox.com)|162.125.3.18|:443... connected.\n",
            "HTTP request sent, awaiting response... 302 Found\n",
            "Location: /s/raw/pdhwlpi2yeie0ol/movie-reviews-dataset.zip [following]\n",
            "--2022-10-19 19:10:27--  https://www.dropbox.com/s/raw/pdhwlpi2yeie0ol/movie-reviews-dataset.zip\n",
            "Reusing existing connection to www.dropbox.com:443.\n",
            "HTTP request sent, awaiting response... 302 Found\n",
            "Location: https://uc0050d30fd7dd6c5c39bb11ccfc.dl.dropboxusercontent.com/cd/0/inline/BvJSx9u6wcIg_Ni7V4cMFjAfBKER9d_FdLI_DVIWA2yvCt3rB4Mi9ipjzMBypCWCrbM4_j_2SE2UvhzWeB0vkvu8c1eNOfRwGWH8iF50RnAUhNHMw-VnYbmlQArDR8LMJJa1SZWXzknOYJXCGMXxXKcjiANkCNxEhAT9Aaq260PJSg/file# [following]\n",
            "--2022-10-19 19:10:28--  https://uc0050d30fd7dd6c5c39bb11ccfc.dl.dropboxusercontent.com/cd/0/inline/BvJSx9u6wcIg_Ni7V4cMFjAfBKER9d_FdLI_DVIWA2yvCt3rB4Mi9ipjzMBypCWCrbM4_j_2SE2UvhzWeB0vkvu8c1eNOfRwGWH8iF50RnAUhNHMw-VnYbmlQArDR8LMJJa1SZWXzknOYJXCGMXxXKcjiANkCNxEhAT9Aaq260PJSg/file\n",
            "Resolving uc0050d30fd7dd6c5c39bb11ccfc.dl.dropboxusercontent.com (uc0050d30fd7dd6c5c39bb11ccfc.dl.dropboxusercontent.com)... 162.125.3.15, 2620:100:6021:15::a27d:410f\n",
            "Connecting to uc0050d30fd7dd6c5c39bb11ccfc.dl.dropboxusercontent.com (uc0050d30fd7dd6c5c39bb11ccfc.dl.dropboxusercontent.com)|162.125.3.15|:443... connected.\n",
            "HTTP request sent, awaiting response... 302 Found\n",
            "Location: /cd/0/inline2/BvL6wVyuf7unrM4AQ4PAWt4Qc6wwX7UavO4axyIAPLDl6gSnb6By8n-HrRXygHg-0U4oVzEl6jTn-Yb9Oi6jT9varkjMsqFI0RXhZ6kR9opw9_E5K2q3v8XeYvNvqU9qfQE3aMeoLQGlmGXPfbFphwSUm7GPfcwYjI-P_jMb6EvqNqi36_RGpWrtHI41O1Kscm-0lELkpVmTp-_JZlUmMf2hOgNNwwFZ1v6X8ddp70VADC_umC-1BFibzAnQEC3Wp7SnlPc_ibMV3ceatvIYonHjNxIsciwpa2I-zerA25Wa98J5D1WYcNhptP4RRYGhGLxBanJhlkOwjJVYy0TU5o-VtySXnGG2Y1evPfMvhOxM6gTQBOa8X3PstAOBTiPPZzkW_MhRyv3NrbPE6T-xcMZRXMptHZ1UHDdB6xIKvfOuDg/file [following]\n",
            "--2022-10-19 19:10:28--  https://uc0050d30fd7dd6c5c39bb11ccfc.dl.dropboxusercontent.com/cd/0/inline2/BvL6wVyuf7unrM4AQ4PAWt4Qc6wwX7UavO4axyIAPLDl6gSnb6By8n-HrRXygHg-0U4oVzEl6jTn-Yb9Oi6jT9varkjMsqFI0RXhZ6kR9opw9_E5K2q3v8XeYvNvqU9qfQE3aMeoLQGlmGXPfbFphwSUm7GPfcwYjI-P_jMb6EvqNqi36_RGpWrtHI41O1Kscm-0lELkpVmTp-_JZlUmMf2hOgNNwwFZ1v6X8ddp70VADC_umC-1BFibzAnQEC3Wp7SnlPc_ibMV3ceatvIYonHjNxIsciwpa2I-zerA25Wa98J5D1WYcNhptP4RRYGhGLxBanJhlkOwjJVYy0TU5o-VtySXnGG2Y1evPfMvhOxM6gTQBOa8X3PstAOBTiPPZzkW_MhRyv3NrbPE6T-xcMZRXMptHZ1UHDdB6xIKvfOuDg/file\n",
            "Reusing existing connection to uc0050d30fd7dd6c5c39bb11ccfc.dl.dropboxusercontent.com:443.\n",
            "HTTP request sent, awaiting response... 200 OK\n",
            "Length: 62951389 (60M) [application/zip]\n",
            "Saving to: ‘movie-reviews-dataset.zip’\n",
            "\n",
            "movie-reviews-datas 100%[===================>]  60.03M  41.9MB/s    in 1.4s    \n",
            "\n",
            "2022-10-19 19:10:30 (41.9 MB/s) - ‘movie-reviews-dataset.zip’ saved [62951389/62951389]\n",
            "\n"
          ]
        }
      ],
      "source": [
        "!wget https://www.dropbox.com/s/pdhwlpi2yeie0ol/movie-reviews-dataset.zip"
      ]
    },
    {
      "cell_type": "code",
      "source": [
        "!unzip -q \"/content/movie-reviews-dataset.zip\""
      ],
      "metadata": {
        "id": "dB7vmQMvbMj_"
      },
      "execution_count": null,
      "outputs": []
    },
    {
      "cell_type": "code",
      "source": [
        "from tensorflow.keras.preprocessing import text_dataset_from_directory\n",
        "from tensorflow.strings import regex_replace\n",
        "from tensorflow.keras.layers.experimental.preprocessing import TextVectorization\n",
        "from tensorflow.keras.models import Sequential\n",
        "from tensorflow.keras import Input\n",
        "from tensorflow.keras.layers import Dense, GRU, SimpleRNNCell, Embedding, Dropout"
      ],
      "metadata": {
        "id": "H7Uv87cPcC0u"
      },
      "execution_count": null,
      "outputs": []
    },
    {
      "cell_type": "code",
      "source": [
        "def prepareData(dir):\n",
        "  data=text_dataset_from_directory(dir)\n",
        "  return data.map(\n",
        "      lambda text,label :(regex_replace(text,\"<br />\", ' '),label),\n",
        "  )"
      ],
      "metadata": {
        "id": "hUm1Ihi9dIzS"
      },
      "execution_count": null,
      "outputs": []
    },
    {
      "cell_type": "code",
      "source": [
        "train_data=prepareData(\"movie-reviews-dataset/train\")\n",
        "test_data=prepareData(\"movie-reviews-dataset/test\")\n",
        "for text_batch,label_batch in train_data.take(1):\n",
        "  print(text_batch.numpy()[0])\n",
        "  print(label_batch.numpy()[0])"
      ],
      "metadata": {
        "colab": {
          "base_uri": "https://localhost:8080/"
        },
        "id": "wi-g1bR_edIU",
        "outputId": "5de58d6d-37df-42c6-c326-c76df240187e"
      },
      "execution_count": null,
      "outputs": [
        {
          "output_type": "stream",
          "name": "stdout",
          "text": [
            "Found 25000 files belonging to 2 classes.\n",
            "Found 25000 files belonging to 2 classes.\n",
            "b'This little film had long been on my \"keeper\" list. Do people realize how stressed out, menopausal, emotionally abused women (as well as the mentally retarded) were REALLY treated by the medical profession at the turn of the century??!! All of the pious uptight Christian attitudes of that time were deadly to exploring TRUE emotional feelings that would allow us to embrace suffering souls, let alone explore what it means to embrace our humanity. Can you really imagine (by today\\'s standards) that Walt Whitman\\'s books were banned because he acknowledged women as having feelings and emotional responses as great as a mans? Think about that! The sensitivity of this movie still gets me and I give credit to the director for capturing this through his eyes.'\n",
            "1\n"
          ]
        }
      ]
    },
    {
      "cell_type": "code",
      "source": [
        "for text_batch,label_batch in train_data.take(1):\n",
        "  print(text_batch.numpy()[0])\n",
        "  print(label_batch.numpy()[0])"
      ],
      "metadata": {
        "colab": {
          "base_uri": "https://localhost:8080/"
        },
        "id": "GnqIYmKUe3Dm",
        "outputId": "10cbeb65-7058-4ff7-a0df-c1d7bbc3166c"
      },
      "execution_count": null,
      "outputs": [
        {
          "output_type": "stream",
          "name": "stdout",
          "text": [
            "b'Today, Bea Arthur died so I was cruising around the IMDb Web site and somehow wound up on a show called \"Gloria.\" \"All In The Family\" was a brilliant show for its first four or five years and I bet I watched every episode more than once. However, I swear that I did NOT know a show named \"Gloria\" existed. Maybe, that\\'s a good thing. Maybe, it means I had a life as a young adult rather than watching television.  On the other hand, it is pathetic that the \"All In The Family\" franchise had deteriorated so much that it begat a show I never heard of -- and one that is rated very poorly by the previous reviewers.  I rated the show a 1 for two reasons -- the system did not allow me to register a no vote and writers and TV execs should be condemned for starting a show that had no business being on the air and besmirches the memory of one of the greatest shows in TV history.  Shalom, ZWrite'\n",
            "0\n"
          ]
        }
      ]
    },
    {
      "cell_type": "code",
      "source": [
        "model=Sequential()"
      ],
      "metadata": {
        "id": "NLTweI2ffLiQ"
      },
      "execution_count": null,
      "outputs": []
    },
    {
      "cell_type": "code",
      "source": [
        "model.add(Input(shape=(1,),dtype=\"string\"))"
      ],
      "metadata": {
        "id": "1rWWiQM8gRkD"
      },
      "execution_count": null,
      "outputs": []
    },
    {
      "cell_type": "code",
      "source": [
        "max_tokens=1000\n",
        "max_len=100\n",
        "vectorize_layer=TextVectorization(\n",
        "    max_tokens=max_tokens,\n",
        "    output_mode='int',\n",
        "    output_sequence_length=max_len,\n",
        ")"
      ],
      "metadata": {
        "id": "4RJUgE4cgiGC"
      },
      "execution_count": null,
      "outputs": []
    },
    {
      "cell_type": "code",
      "source": [
        "train_texts=train_data.map(lambda text,label:text)\n",
        "vectorize_layer.adapt(train_texts)\n",
        "model.add(vectorize_layer)"
      ],
      "metadata": {
        "id": "K6164mivhFQm"
      },
      "execution_count": null,
      "outputs": []
    },
    {
      "cell_type": "code",
      "source": [
        "model.add(Embedding(max_tokens+1,128))\n",
        "\n",
        "#rnn=RNN(SimpleRNNCell(64),return_sequences=False,return_state=False)\n",
        "model.add(GRU(64))\n",
        "model.add(Dense(64,activation='relu'))\n",
        "model.add(Dense(1,activation='sigmoid'))"
      ],
      "metadata": {
        "id": "Y53fFk-uhi_7"
      },
      "execution_count": null,
      "outputs": []
    },
    {
      "cell_type": "code",
      "source": [
        "model.compile(loss='binary_crossentropy',optimizer='adam',metrics=['accuracy'])"
      ],
      "metadata": {
        "id": "ND1UczakizR2"
      },
      "execution_count": null,
      "outputs": []
    },
    {
      "cell_type": "code",
      "source": [
        "model.fit(train_data,epochs=10)"
      ],
      "metadata": {
        "colab": {
          "base_uri": "https://localhost:8080/"
        },
        "id": "qsH-DS8IjH6q",
        "outputId": "890a36f1-3ab4-4ed4-9005-c8c895115d95"
      },
      "execution_count": null,
      "outputs": [
        {
          "output_type": "stream",
          "name": "stdout",
          "text": [
            "Epoch 1/10\n",
            "782/782 [==============================] - 59s 71ms/step - loss: 0.5740 - accuracy: 0.6842\n",
            "Epoch 2/10\n",
            "782/782 [==============================] - 56s 71ms/step - loss: 0.4214 - accuracy: 0.8040\n",
            "Epoch 3/10\n",
            "782/782 [==============================] - 57s 73ms/step - loss: 0.3849 - accuracy: 0.8247\n",
            "Epoch 4/10\n",
            "782/782 [==============================] - 57s 73ms/step - loss: 0.3636 - accuracy: 0.8328\n",
            "Epoch 5/10\n",
            "782/782 [==============================] - 59s 75ms/step - loss: 0.3444 - accuracy: 0.8430\n",
            "Epoch 6/10\n",
            "782/782 [==============================] - 56s 72ms/step - loss: 0.3256 - accuracy: 0.8508\n",
            "Epoch 7/10\n",
            "782/782 [==============================] - 57s 72ms/step - loss: 0.3039 - accuracy: 0.8595\n",
            "Epoch 8/10\n",
            "782/782 [==============================] - 57s 73ms/step - loss: 0.2882 - accuracy: 0.8654\n",
            "Epoch 9/10\n",
            "782/782 [==============================] - 56s 71ms/step - loss: 0.2650 - accuracy: 0.8784\n",
            "Epoch 10/10\n",
            "782/782 [==============================] - 59s 75ms/step - loss: 0.2479 - accuracy: 0.8837\n"
          ]
        },
        {
          "output_type": "execute_result",
          "data": {
            "text/plain": [
              "<keras.callbacks.History at 0x7fce4ac2f410>"
            ]
          },
          "metadata": {},
          "execution_count": 14
        }
      ]
    },
    {
      "cell_type": "code",
      "source": [
        "model.evaluate(test_data)"
      ],
      "metadata": {
        "colab": {
          "base_uri": "https://localhost:8080/"
        },
        "id": "b-PWREZ6jPVn",
        "outputId": "265eecba-5a5f-452d-a7bc-ee45990b5bce"
      },
      "execution_count": null,
      "outputs": [
        {
          "output_type": "stream",
          "name": "stdout",
          "text": [
            "782/782 [==============================] - 18s 23ms/step - loss: 0.7083 - accuracy: 0.7835\n"
          ]
        },
        {
          "output_type": "execute_result",
          "data": {
            "text/plain": [
              "[0.7083390355110168, 0.783519983291626]"
            ]
          },
          "metadata": {},
          "execution_count": 15
        }
      ]
    },
    {
      "cell_type": "code",
      "source": [
        "text='I love this movie !'"
      ],
      "metadata": {
        "id": "so87N4cwkzfo"
      },
      "execution_count": null,
      "outputs": []
    },
    {
      "cell_type": "code",
      "source": [
        "model.predict([text])"
      ],
      "metadata": {
        "colab": {
          "base_uri": "https://localhost:8080/"
        },
        "id": "sD6dRwKEk-EZ",
        "outputId": "7f739692-5df6-47c2-cb62-07848d11c595"
      },
      "execution_count": null,
      "outputs": [
        {
          "output_type": "stream",
          "name": "stdout",
          "text": [
            "1/1 [==============================] - 1s 511ms/step\n"
          ]
        },
        {
          "output_type": "execute_result",
          "data": {
            "text/plain": [
              "array([[0.9830071]], dtype=float32)"
            ]
          },
          "metadata": {},
          "execution_count": 17
        }
      ]
    },
    {
      "cell_type": "code",
      "source": [],
      "metadata": {
        "id": "Lz7dOM19lA70"
      },
      "execution_count": null,
      "outputs": []
    }
  ]
}