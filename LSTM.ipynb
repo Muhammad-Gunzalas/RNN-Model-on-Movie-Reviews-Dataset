{
  "nbformat": 4,
  "nbformat_minor": 0,
  "metadata": {
    "colab": {
      "provenance": [],
      "mount_file_id": "1YK5fbmw0ztEaiDp2UCqHi1ifh7egvO5i",
      "authorship_tag": "ABX9TyNSY78FMpjZIZPcLGZSWj4Z",
      "include_colab_link": true
    },
    "kernelspec": {
      "name": "python3",
      "display_name": "Python 3"
    },
    "language_info": {
      "name": "python"
    }
  },
  "cells": [
    {
      "cell_type": "markdown",
      "metadata": {
        "id": "view-in-github",
        "colab_type": "text"
      },
      "source": [
        "<a href=\"https://colab.research.google.com/github/Muhammad-Gunzalas/RNN-Model-on-Movie-Reviews-Dataset/blob/main/LSTM.ipynb\" target=\"_parent\"><img src=\"https://colab.research.google.com/assets/colab-badge.svg\" alt=\"Open In Colab\"/></a>"
      ]
    },
    {
      "cell_type": "code",
      "source": [
        
      ],
      "metadata": {
        "id": "FZqFv2BVfUdM"
      },
      "execution_count": null,
      "outputs": []
    },
    {
      "cell_type": "code",
      "execution_count": null,
      "metadata": {
        "id": "Z5ekDM5hWjoc",
        "colab": {
          "base_uri": "https://localhost:8080/"
        },
        "outputId": "59be6700-ecfb-4e8e-f244-962b9ca53cd6"
      },
      "outputs": [
        {
          "output_type": "stream",
          "name": "stdout",
          "text": [
            "--2022-10-19 19:08:04--  https://www.dropbox.com/s/pdhwlpi2yeie0ol/movie-reviews-dataset.zip\n",
            "Resolving www.dropbox.com (www.dropbox.com)... 162.125.3.18, 2620:100:6030:18::a27d:5012\n",
            "Connecting to www.dropbox.com (www.dropbox.com)|162.125.3.18|:443... connected.\n",
            "HTTP request sent, awaiting response... 302 Found\n",
            "Location: /s/raw/pdhwlpi2yeie0ol/movie-reviews-dataset.zip [following]\n",
            "--2022-10-19 19:08:05--  https://www.dropbox.com/s/raw/pdhwlpi2yeie0ol/movie-reviews-dataset.zip\n",
            "Reusing existing connection to www.dropbox.com:443.\n",
            "HTTP request sent, awaiting response... 302 Found\n",
            "Location: https://uc746d7d9f1bacd677289c8a9fae.dl.dropboxusercontent.com/cd/0/inline/BvLk5qSLY3C0Gv6_EIlQNht9gAxsN6p4atnp4SJx9Hsx3JiXys26ysKMlGVqBWw3Nux8KPLu8JEJaeLEDZ1gC-8RYFfKyXDWmGItx2aaGyK3eroXrln7WmGgfGSDo8Hmp9TTG7qqKqLT3PRWnMotDuo9hH1mxK6eiNS4xcCXV2FnJA/file# [following]\n",
            "--2022-10-19 19:08:05--  https://uc746d7d9f1bacd677289c8a9fae.dl.dropboxusercontent.com/cd/0/inline/BvLk5qSLY3C0Gv6_EIlQNht9gAxsN6p4atnp4SJx9Hsx3JiXys26ysKMlGVqBWw3Nux8KPLu8JEJaeLEDZ1gC-8RYFfKyXDWmGItx2aaGyK3eroXrln7WmGgfGSDo8Hmp9TTG7qqKqLT3PRWnMotDuo9hH1mxK6eiNS4xcCXV2FnJA/file\n",
            "Resolving uc746d7d9f1bacd677289c8a9fae.dl.dropboxusercontent.com (uc746d7d9f1bacd677289c8a9fae.dl.dropboxusercontent.com)... 162.125.3.15, 2620:100:6018:15::a27d:30f\n",
            "Connecting to uc746d7d9f1bacd677289c8a9fae.dl.dropboxusercontent.com (uc746d7d9f1bacd677289c8a9fae.dl.dropboxusercontent.com)|162.125.3.15|:443... connected.\n",
            "HTTP request sent, awaiting response... 302 Found\n",
            "Location: /cd/0/inline2/BvLGaNdYT1Z8jVmwFMiG4ZEyYesgn4RDYW8Kp9n7QArFGrRSJn00AEX34CGJsgjiXIdVy5h2IZKK9_VNuuvlDugEW5r-HnOF21Jh3835g0ivMN6ieMfF4NvhYdQuLqhs1b2S1ktT0QCr26ns31EgpY0sSta_UjWEn7HabEukomFLatCWPMt_H__6tM7ethoEiU0ISsg-PUAJ5AYfEpsFiztYB_dyAbXVmj5bgrkXPuzJvcsD3jZVdbne7YCBtP7wTG5yXLi_0pkoyOh1OzHsYGioOoTmSk_Exnr1AB9eiuQ4KqcTchMD41cqzUuDBWshbdYSp9qe_8Dk0WRAw901gLUVw_WgO0-6IsrSUnbUnB15_aFSdvgSf9iPeJe0FRnAnUiftYtoKfzrzo-m_GQGZc5vC7oVnUCZjaxfZqJR5Xd9nA/file [following]\n",
            "--2022-10-19 19:08:05--  https://uc746d7d9f1bacd677289c8a9fae.dl.dropboxusercontent.com/cd/0/inline2/BvLGaNdYT1Z8jVmwFMiG4ZEyYesgn4RDYW8Kp9n7QArFGrRSJn00AEX34CGJsgjiXIdVy5h2IZKK9_VNuuvlDugEW5r-HnOF21Jh3835g0ivMN6ieMfF4NvhYdQuLqhs1b2S1ktT0QCr26ns31EgpY0sSta_UjWEn7HabEukomFLatCWPMt_H__6tM7ethoEiU0ISsg-PUAJ5AYfEpsFiztYB_dyAbXVmj5bgrkXPuzJvcsD3jZVdbne7YCBtP7wTG5yXLi_0pkoyOh1OzHsYGioOoTmSk_Exnr1AB9eiuQ4KqcTchMD41cqzUuDBWshbdYSp9qe_8Dk0WRAw901gLUVw_WgO0-6IsrSUnbUnB15_aFSdvgSf9iPeJe0FRnAnUiftYtoKfzrzo-m_GQGZc5vC7oVnUCZjaxfZqJR5Xd9nA/file\n",
            "Reusing existing connection to uc746d7d9f1bacd677289c8a9fae.dl.dropboxusercontent.com:443.\n",
            "HTTP request sent, awaiting response... 200 OK\n",
            "Length: 62951389 (60M) [application/zip]\n",
            "Saving to: ‘movie-reviews-dataset.zip’\n",
            "\n",
            "movie-reviews-datas 100%[===================>]  60.03M   113MB/s    in 0.5s    \n",
            "\n",
            "2022-10-19 19:08:06 (113 MB/s) - ‘movie-reviews-dataset.zip’ saved [62951389/62951389]\n",
            "\n"
          ]
        }
      ],
      "source": [
        "!wget https://www.dropbox.com/s/pdhwlpi2yeie0ol/movie-reviews-dataset.zip"
      ]
    },
    {
      "cell_type": "code",
      "source": [
        "!unzip -q \"/content/movie-reviews-dataset.zip\""
      ],
      "metadata": {
        "id": "dB7vmQMvbMj_"
      },
      "execution_count": null,
      "outputs": []
    },
    {
      "cell_type": "code",
      "source": [
        "from tensorflow.keras.preprocessing import text_dataset_from_directory\n",
        "from tensorflow.strings import regex_replace\n",
        "from tensorflow.keras.layers.experimental.preprocessing import TextVectorization\n",
        "from tensorflow.keras.models import Sequential\n",
        "from tensorflow.keras import Input\n",
        "from tensorflow.keras.layers import Dense, LSTM, SimpleRNNCell, Embedding, Dropout"
      ],
      "metadata": {
        "id": "H7Uv87cPcC0u"
      },
      "execution_count": null,
      "outputs": []
    },
    {
      "cell_type": "code",
      "source": [
        "def prepareData(dir):\n",
        "  data=text_dataset_from_directory(dir)\n",
        "  return data.map(\n",
        "      lambda text,label :(regex_replace(text,\"<br />\", ' '),label),\n",
        "  )"
      ],
      "metadata": {
        "id": "hUm1Ihi9dIzS"
      },
      "execution_count": null,
      "outputs": []
    },
    {
      "cell_type": "code",
      "source": [
        "train_data=prepareData(\"movie-reviews-dataset/train\")\n",
        "test_data=prepareData(\"movie-reviews-dataset/test\")\n",
        "for text_batch,label_batch in train_data.take(1):\n",
        "  print(text_batch.numpy()[0])\n",
        "  print(label_batch.numpy()[0])"
      ],
      "metadata": {
        "colab": {
          "base_uri": "https://localhost:8080/"
        },
        "id": "wi-g1bR_edIU",
        "outputId": "c4bd81fd-7284-4148-c644-5c46a70d9217"
      },
      "execution_count": null,
      "outputs": [
        {
          "output_type": "stream",
          "name": "stdout",
          "text": [
            "Found 25000 files belonging to 2 classes.\n",
            "Found 25000 files belonging to 2 classes.\n",
            "b'I had read a few positive reviews of this film, and was truly surprised at how dreadful the whole thing was. Positioned as some cross between an AIDS-related story and some kind of \"Ghost\"/\"Blithe Spirit\" tale, this film can\\'t always make it\\'s mind up what it wants to be.   Simon and Mark are a gay couple who have an \"open\" relationship - Simon is able to have anonymous (though safe) sex on the side when he wants. Mark is HIV+ and he and Simon don\\'t seem to have a sex life anymore. When Mark dies, Simon - who has made a habit of shutting off his emotions after being rejected years ago by his father - tries to erase his memory and just get on with being a bachelor. Not that his behavior before Mark\\'s death was much different. But Mark returns in ghostly form and foils his various trysts, while getting Simon to open up and admit his true feelings.  Unfortunately, Simon is such a selfish SOB, it\\'s impossible to feel any empathy toward him for most of the film. By the time he is supposed to be more sympathetic, it\\'s too late to care. Mark, on the other hand, follows in Demi Moore\\'s footsteps from \"Ghost,\" by crying profusely throughout the movie.   There is a bizarre switch in tone after Mark returns. Suddenly we get some lame attempts at humor, a la the TV show \"Bewitched.\" But that doesn\\'t last long. Once Simon\\'s emotional health is at stake, the whole thing becomes increasingly mawkish, with amateurish attempts to jerk at your heartstrings. The finale, with a gold-plated muscle-boy angel guiding a tearful Mark to heaven while a chastened, grief-stricken Simon waves goodbye is just stupefying, chiefly because it isn\\'t intentionally funny.'\n",
            "0\n"
          ]
        }
      ]
    },
    {
      "cell_type": "code",
      "source": [
        "for text_batch,label_batch in train_data.take(1):\n",
        "  print(text_batch.numpy()[0])\n",
        "  print(label_batch.numpy()[0])"
      ],
      "metadata": {
        "colab": {
          "base_uri": "https://localhost:8080/"
        },
        "id": "GnqIYmKUe3Dm",
        "outputId": "9ea7af5f-2fb2-435e-e469-bf46f8b350df"
      },
      "execution_count": null,
      "outputs": [
        {
          "output_type": "stream",
          "name": "stdout",
          "text": [
            "b\"I am a dumber person for renting the DVD REDLINE. Chicago Pictures who made this stupid movie never paid Palisades Media Group to buy web ads on various automotive sites including mine which has an ALEXA rating of 16K. They ripped me off on the deal and now I am out $16,000 and they wasted much of my personal time (peter rapport of Palisades Media) you know who you are!  Please don't rent or buy this movie!!! It sucks and the people behind it are ripoff artists.  REDLINE has a cast of losers and poor actors!  This movie is a Joke\"\n",
            "0\n"
          ]
        }
      ]
    },
    {
      "cell_type": "code",
      "source": [
        "model=Sequential()"
      ],
      "metadata": {
        "id": "NLTweI2ffLiQ"
      },
      "execution_count": null,
      "outputs": []
    },
    {
      "cell_type": "code",
      "source": [
        "model.add(Input(shape=(1,),dtype=\"string\"))"
      ],
      "metadata": {
        "id": "1rWWiQM8gRkD"
      },
      "execution_count": null,
      "outputs": []
    },
    {
      "cell_type": "code",
      "source": [
        "max_tokens=1000\n",
        "max_len=100\n",
        "vectorize_layer=TextVectorization(\n",
        "    max_tokens=max_tokens,\n",
        "    output_mode='int',\n",
        "    output_sequence_length=max_len,\n",
        ")"
      ],
      "metadata": {
        "id": "4RJUgE4cgiGC"
      },
      "execution_count": null,
      "outputs": []
    },
    {
      "cell_type": "code",
      "source": [
        "train_texts=train_data.map(lambda text,label:text)\n",
        "vectorize_layer.adapt(train_texts)\n",
        "model.add(vectorize_layer)"
      ],
      "metadata": {
        "id": "K6164mivhFQm"
      },
      "execution_count": null,
      "outputs": []
    },
    {
      "cell_type": "code",
      "source": [
        "model.add(Embedding(max_tokens+1,128))\n",
        "\n",
        "#rnn=RNN(SimpleRNNCell(64),return_sequences=False,return_state=False)\n",
        "model.add(LSTM(64))\n",
        "model.add(Dense(64,activation='relu'))\n",
        "model.add(Dense(1,activation='sigmoid'))"
      ],
      "metadata": {
        "id": "Y53fFk-uhi_7"
      },
      "execution_count": null,
      "outputs": []
    },
    {
      "cell_type": "code",
      "source": [
        "model.compile(loss='binary_crossentropy',optimizer='adam',metrics=['accuracy'])"
      ],
      "metadata": {
        "id": "ND1UczakizR2"
      },
      "execution_count": null,
      "outputs": []
    },
    {
      "cell_type": "code",
      "source": [
        "model.fit(train_data,epochs=10)"
      ],
      "metadata": {
        "colab": {
          "base_uri": "https://localhost:8080/"
        },
        "id": "qsH-DS8IjH6q",
        "outputId": "8d512a8e-0e8a-4b57-e3d3-92c1f7729c73"
      },
      "execution_count": null,
      "outputs": [
        {
          "output_type": "stream",
          "name": "stdout",
          "text": [
            "Epoch 1/10\n",
            "782/782 [==============================] - 64s 78ms/step - loss: 0.5250 - accuracy: 0.7350\n",
            "Epoch 2/10\n",
            "782/782 [==============================] - 61s 78ms/step - loss: 0.4474 - accuracy: 0.7931\n",
            "Epoch 3/10\n",
            "782/782 [==============================] - 62s 79ms/step - loss: 0.4140 - accuracy: 0.8132\n",
            "Epoch 4/10\n",
            "782/782 [==============================] - 61s 78ms/step - loss: 0.3887 - accuracy: 0.8273\n",
            "Epoch 5/10\n",
            "782/782 [==============================] - 62s 79ms/step - loss: 0.3690 - accuracy: 0.8405\n",
            "Epoch 6/10\n",
            "782/782 [==============================] - 62s 80ms/step - loss: 0.3534 - accuracy: 0.8465\n",
            "Epoch 7/10\n",
            "782/782 [==============================] - 61s 78ms/step - loss: 0.3363 - accuracy: 0.8527\n",
            "Epoch 8/10\n",
            "782/782 [==============================] - 62s 79ms/step - loss: 0.3184 - accuracy: 0.8625\n",
            "Epoch 9/10\n",
            "782/782 [==============================] - 61s 78ms/step - loss: 0.3120 - accuracy: 0.8669\n",
            "Epoch 10/10\n",
            "782/782 [==============================] - 61s 78ms/step - loss: 0.2905 - accuracy: 0.8768\n"
          ]
        },
        {
          "output_type": "execute_result",
          "data": {
            "text/plain": [
              "<keras.callbacks.History at 0x7f45fb32b510>"
            ]
          },
          "metadata": {},
          "execution_count": 14
        }
      ]
    },
    {
      "cell_type": "code",
      "source": [
        "model.evaluate(test_data)"
      ],
      "metadata": {
        "colab": {
          "base_uri": "https://localhost:8080/"
        },
        "id": "b-PWREZ6jPVn",
        "outputId": "fc3a0aad-e7cb-40b0-e31f-01cb09127eae"
      },
      "execution_count": null,
      "outputs": [
        {
          "output_type": "stream",
          "name": "stdout",
          "text": [
            "782/782 [==============================] - 23s 29ms/step - loss: 0.5249 - accuracy: 0.7754\n"
          ]
        },
        {
          "output_type": "execute_result",
          "data": {
            "text/plain": [
              "[0.5248507857322693, 0.7753999829292297]"
            ]
          },
          "metadata": {},
          "execution_count": 15
        }
      ]
    },
    {
      "cell_type": "code",
      "source": [
        "text='I love this movie !'"
      ],
      "metadata": {
        "id": "so87N4cwkzfo"
      },
      "execution_count": null,
      "outputs": []
    },
    {
      "cell_type": "code",
      "source": [
        "model.predict([text])"
      ],
      "metadata": {
        "colab": {
          "base_uri": "https://localhost:8080/"
        },
        "id": "sD6dRwKEk-EZ",
        "outputId": "3426d7d3-9859-439d-b541-806b9628e45d"
      },
      "execution_count": null,
      "outputs": [
        {
          "output_type": "stream",
          "name": "stdout",
          "text": [
            "1/1 [==============================] - 0s 42ms/step\n"
          ]
        },
        {
          "output_type": "execute_result",
          "data": {
            "text/plain": [
              "array([[0.8311245]], dtype=float32)"
            ]
          },
          "metadata": {},
          "execution_count": 27
        }
      ]
    },
    {
      "cell_type": "code",
      "source": [],
      "metadata": {
        "id": "Lz7dOM19lA70"
      },
      "execution_count": null,
      "outputs": []
    }
  ]
}
