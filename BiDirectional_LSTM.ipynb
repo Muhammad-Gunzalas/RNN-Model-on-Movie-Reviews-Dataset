{
  "nbformat": 4,
  "nbformat_minor": 0,
  "metadata": {
    "colab": {
      "provenance": [],
      "mount_file_id": "1YK5fbmw0ztEaiDp2UCqHi1ifh7egvO5i",
      "authorship_tag": "ABX9TyOuxprn8Tv12dsNleBT7ATV",
      "include_colab_link": true
    },
    "kernelspec": {
      "name": "python3",
      "display_name": "Python 3"
    },
    "language_info": {
      "name": "python"
    }
  },
  "cells": [
    {
      "cell_type": "markdown",
      "metadata": {
        "id": "view-in-github",
        "colab_type": "text"
      },
      "source": [
        "<a href=\"https://colab.research.google.com/github/Muhammad-Gunzalas/RNN-Model-on-Movie-Reviews-Dataset/blob/main/BiDirectional_LSTM.ipynb\" target=\"_parent\"><img src=\"https://colab.research.google.com/assets/colab-badge.svg\" alt=\"Open In Colab\"/></a>"
      ]
    },
    {
      "cell_type": "code",
      "source": [
        "import numpy as np"
      ],
      "metadata": {
        "id": "FZqFv2BVfUdM"
      },
      "execution_count": null,
      "outputs": []
    },
    {
      "cell_type": "code",
      "execution_count": null,
      "metadata": {
        "id": "Z5ekDM5hWjoc",
        "colab": {
          "base_uri": "https://localhost:8080/"
        },
        "outputId": "5321d079-0b17-48db-9918-780ffc3ea1f8"
      },
      "outputs": [
        {
          "output_type": "stream",
          "name": "stdout",
          "text": [
            "--2022-10-19 19:34:22--  https://www.dropbox.com/s/pdhwlpi2yeie0ol/movie-reviews-dataset.zip\n",
            "Resolving www.dropbox.com (www.dropbox.com)... 162.125.1.18, 2620:100:6016:18::a27d:112\n",
            "Connecting to www.dropbox.com (www.dropbox.com)|162.125.1.18|:443... connected.\n",
            "HTTP request sent, awaiting response... 302 Found\n",
            "Location: /s/raw/pdhwlpi2yeie0ol/movie-reviews-dataset.zip [following]\n",
            "--2022-10-19 19:34:22--  https://www.dropbox.com/s/raw/pdhwlpi2yeie0ol/movie-reviews-dataset.zip\n",
            "Reusing existing connection to www.dropbox.com:443.\n",
            "HTTP request sent, awaiting response... 302 Found\n",
            "Location: https://uc3d18dde970a22f12a6f24aaeb1.dl.dropboxusercontent.com/cd/0/inline/BvLx8boI_XFKhZqJ1-VIYZnJSG9VgHDtSsTnB2ljYEKyCbz6ZylziJuMKrm2amqnZBMQ5sqx9adtDXLQjtHEl_emSKHNC0XGyxX88vWzAt6qxqYBsJCVFO7lqaTdC6FSjeRNminU7Q-nThaWEAmqGhjWhoc2jcufHyIG1G_8ecnH3A/file# [following]\n",
            "--2022-10-19 19:34:23--  https://uc3d18dde970a22f12a6f24aaeb1.dl.dropboxusercontent.com/cd/0/inline/BvLx8boI_XFKhZqJ1-VIYZnJSG9VgHDtSsTnB2ljYEKyCbz6ZylziJuMKrm2amqnZBMQ5sqx9adtDXLQjtHEl_emSKHNC0XGyxX88vWzAt6qxqYBsJCVFO7lqaTdC6FSjeRNminU7Q-nThaWEAmqGhjWhoc2jcufHyIG1G_8ecnH3A/file\n",
            "Resolving uc3d18dde970a22f12a6f24aaeb1.dl.dropboxusercontent.com (uc3d18dde970a22f12a6f24aaeb1.dl.dropboxusercontent.com)... 162.125.1.15, 2620:100:6016:15::a27d:10f\n",
            "Connecting to uc3d18dde970a22f12a6f24aaeb1.dl.dropboxusercontent.com (uc3d18dde970a22f12a6f24aaeb1.dl.dropboxusercontent.com)|162.125.1.15|:443... connected.\n",
            "HTTP request sent, awaiting response... 302 Found\n",
            "Location: /cd/0/inline2/BvLCPUn4V09F9aSn-pzUfN29EJYsr2XaGpO1L0cdyPl8a7doSirviE3n6aMvyHMeW-4qGmDnlwrN7cVWy7Y2OhGKGRgYmWOBJZe3k9Ule3sLYQKNtYk1lvh8ECvs-ev4gLOfq-mf5kCWaCmvS0IknRc8GMklNDN5bHK1Zv0EZCPFs-vRYzuFnk8DNxV_s-In_LxBqElF3cT7IzfTYWQkdGrHxnxEoWjBxgMtP4JjVXzPFVRolSAf00mhK_7QIBNL3m-FChQ3p267x7BLwNCGTdXnE0EHkOvhWtr0c37W2gNdUGSIhT9Fgz14F9qwOMuCWEcLQQJB22KK16A5w70Bt1Z1ativfhUV-kZn5NYyMVvQAh52RwGUFu3a__NCFc7KYZf-pSo7rCY3jbIZNrxd-ZWvsZhveaHegHcZwkJxRfC-ag/file [following]\n",
            "--2022-10-19 19:34:23--  https://uc3d18dde970a22f12a6f24aaeb1.dl.dropboxusercontent.com/cd/0/inline2/BvLCPUn4V09F9aSn-pzUfN29EJYsr2XaGpO1L0cdyPl8a7doSirviE3n6aMvyHMeW-4qGmDnlwrN7cVWy7Y2OhGKGRgYmWOBJZe3k9Ule3sLYQKNtYk1lvh8ECvs-ev4gLOfq-mf5kCWaCmvS0IknRc8GMklNDN5bHK1Zv0EZCPFs-vRYzuFnk8DNxV_s-In_LxBqElF3cT7IzfTYWQkdGrHxnxEoWjBxgMtP4JjVXzPFVRolSAf00mhK_7QIBNL3m-FChQ3p267x7BLwNCGTdXnE0EHkOvhWtr0c37W2gNdUGSIhT9Fgz14F9qwOMuCWEcLQQJB22KK16A5w70Bt1Z1ativfhUV-kZn5NYyMVvQAh52RwGUFu3a__NCFc7KYZf-pSo7rCY3jbIZNrxd-ZWvsZhveaHegHcZwkJxRfC-ag/file\n",
            "Reusing existing connection to uc3d18dde970a22f12a6f24aaeb1.dl.dropboxusercontent.com:443.\n",
            "HTTP request sent, awaiting response... 200 OK\n",
            "Length: 62951389 (60M) [application/zip]\n",
            "Saving to: ‘movie-reviews-dataset.zip’\n",
            "\n",
            "movie-reviews-datas 100%[===================>]  60.03M  53.9MB/s    in 1.1s    \n",
            "\n",
            "2022-10-19 19:34:24 (53.9 MB/s) - ‘movie-reviews-dataset.zip’ saved [62951389/62951389]\n",
            "\n"
          ]
        }
      ],
      "source": [
        "!wget https://www.dropbox.com/s/pdhwlpi2yeie0ol/movie-reviews-dataset.zip"
      ]
    },
    {
      "cell_type": "code",
      "source": [
        "!unzip -q \"/content/movie-reviews-dataset.zip\""
      ],
      "metadata": {
        "id": "dB7vmQMvbMj_"
      },
      "execution_count": null,
      "outputs": []
    },
    {
      "cell_type": "code",
      "source": [
        "from tensorflow.keras.preprocessing import text_dataset_from_directory\n",
        "from tensorflow.strings import regex_replace\n",
        "from tensorflow.keras.layers.experimental.preprocessing import TextVectorization\n",
        "from tensorflow.keras.models import Sequential\n",
        "from tensorflow.keras import Input\n",
        "from tensorflow.keras.layers import Dense, LSTM, SimpleRNNCell, Embedding, Dropout,Bidirectional"
      ],
      "metadata": {
        "id": "H7Uv87cPcC0u"
      },
      "execution_count": null,
      "outputs": []
    },
    {
      "cell_type": "code",
      "source": [
        "def prepareData(dir):\n",
        "  data=text_dataset_from_directory(dir)\n",
        "  return data.map(\n",
        "      lambda text,label :(regex_replace(text,\"<br />\", ' '),label),\n",
        "  )"
      ],
      "metadata": {
        "id": "hUm1Ihi9dIzS"
      },
      "execution_count": null,
      "outputs": []
    },
    {
      "cell_type": "code",
      "source": [
        "train_data=prepareData(\"movie-reviews-dataset/train\")\n",
        "test_data=prepareData(\"movie-reviews-dataset/test\")\n",
        "for text_batch,label_batch in train_data.take(1):\n",
        "  print(text_batch.numpy()[0])\n",
        "  print(label_batch.numpy()[0])"
      ],
      "metadata": {
        "colab": {
          "base_uri": "https://localhost:8080/"
        },
        "id": "wi-g1bR_edIU",
        "outputId": "0701c4e8-79af-42e3-a6da-5bf35a471bc4"
      },
      "execution_count": null,
      "outputs": [
        {
          "output_type": "stream",
          "name": "stdout",
          "text": [
            "Found 25000 files belonging to 2 classes.\n",
            "Found 25000 files belonging to 2 classes.\n",
            "b\"The Fiendish Plot of Dr. Fu Manchu (1980). This is hands down the worst film I've ever seen. What a sad way for a great comedian to go out.\"\n",
            "0\n"
          ]
        }
      ]
    },
    {
      "cell_type": "code",
      "source": [
        "for text_batch,label_batch in train_data.take(1):\n",
        "  print(text_batch.numpy()[0])\n",
        "  print(label_batch.numpy()[0])"
      ],
      "metadata": {
        "colab": {
          "base_uri": "https://localhost:8080/"
        },
        "id": "GnqIYmKUe3Dm",
        "outputId": "0f6d52f1-63db-482b-9743-d5a1c8f058fc"
      },
      "execution_count": null,
      "outputs": [
        {
          "output_type": "stream",
          "name": "stdout",
          "text": [
            "b\"I'm getting a little tired of people misusing God's name to perpetuate their own bigoted view on the world. Well I don't dismiss the idea of Armageddon, or the coming of the anti-Christ, I do dismiss the idea that only certain people who live truly good lives(They seem to be mostly white Christian children) will go to Heaven, while the rest of us must suffer through a millenia of Hell on Earth, just because we weren't good enough. God may be a judge, but I don't think He is going to measure every level of goodness. Give the Creator some credit.\"\n",
            "0\n"
          ]
        }
      ]
    },
    {
      "cell_type": "code",
      "source": [
        "model=Sequential()"
      ],
      "metadata": {
        "id": "NLTweI2ffLiQ"
      },
      "execution_count": null,
      "outputs": []
    },
    {
      "cell_type": "code",
      "source": [
        "model.add(Input(shape=(1,),dtype=\"string\"))"
      ],
      "metadata": {
        "id": "1rWWiQM8gRkD"
      },
      "execution_count": null,
      "outputs": []
    },
    {
      "cell_type": "code",
      "source": [
        "max_tokens=1000\n",
        "max_len=100\n",
        "vectorize_layer=TextVectorization(\n",
        "    max_tokens=max_tokens,\n",
        "    output_mode='int',\n",
        "    output_sequence_length=max_len,\n",
        ")"
      ],
      "metadata": {
        "id": "4RJUgE4cgiGC"
      },
      "execution_count": null,
      "outputs": []
    },
    {
      "cell_type": "code",
      "source": [
        "train_texts=train_data.map(lambda text,label:text)\n",
        "vectorize_layer.adapt(train_texts)\n",
        "model.add(vectorize_layer)"
      ],
      "metadata": {
        "id": "K6164mivhFQm"
      },
      "execution_count": null,
      "outputs": []
    },
    {
      "cell_type": "code",
      "source": [
        "model.add(Embedding(max_tokens+1,128))\n",
        "\n",
        "#rnn=RNN(SimpleRNNCell(64),return_sequences=False,return_state=False)\n",
        "model.add(Bidirectional(LSTM(64)))\n",
        "model.add(Dense(64,activation='relu'))\n",
        "model.add(Dense(1,activation='sigmoid'))"
      ],
      "metadata": {
        "id": "Y53fFk-uhi_7"
      },
      "execution_count": null,
      "outputs": []
    },
    {
      "cell_type": "code",
      "source": [
        "model.compile(loss='binary_crossentropy',optimizer='adam',metrics=['accuracy'])"
      ],
      "metadata": {
        "id": "ND1UczakizR2"
      },
      "execution_count": null,
      "outputs": []
    },
    {
      "cell_type": "code",
      "source": [
        "model.fit(train_data,epochs=10)"
      ],
      "metadata": {
        "colab": {
          "base_uri": "https://localhost:8080/"
        },
        "id": "qsH-DS8IjH6q",
        "outputId": "bdd103e1-43de-48b9-eab4-1833beffccea"
      },
      "execution_count": null,
      "outputs": [
        {
          "output_type": "stream",
          "name": "stdout",
          "text": [
            "Epoch 1/10\n",
            "782/782 [==============================] - 68s 82ms/step - loss: 0.5017 - accuracy: 0.7468\n",
            "Epoch 2/10\n",
            "782/782 [==============================] - 64s 82ms/step - loss: 0.4223 - accuracy: 0.8042\n",
            "Epoch 3/10\n",
            "782/782 [==============================] - 65s 83ms/step - loss: 0.3905 - accuracy: 0.8235\n",
            "Epoch 4/10\n",
            "782/782 [==============================] - 64s 82ms/step - loss: 0.3618 - accuracy: 0.8358\n",
            "Epoch 5/10\n",
            "782/782 [==============================] - 65s 84ms/step - loss: 0.3336 - accuracy: 0.8506\n",
            "Epoch 6/10\n",
            "782/782 [==============================] - 64s 82ms/step - loss: 0.3030 - accuracy: 0.8672\n",
            "Epoch 7/10\n",
            "782/782 [==============================] - 65s 83ms/step - loss: 0.2769 - accuracy: 0.8790\n",
            "Epoch 8/10\n",
            "782/782 [==============================] - 64s 82ms/step - loss: 0.2490 - accuracy: 0.8912\n",
            "Epoch 9/10\n",
            "782/782 [==============================] - 64s 82ms/step - loss: 0.2229 - accuracy: 0.9023\n",
            "Epoch 10/10\n",
            "782/782 [==============================] - 66s 84ms/step - loss: 0.2094 - accuracy: 0.9091\n"
          ]
        },
        {
          "output_type": "execute_result",
          "data": {
            "text/plain": [
              "<keras.callbacks.History at 0x7f957d285590>"
            ]
          },
          "metadata": {},
          "execution_count": 14
        }
      ]
    },
    {
      "cell_type": "code",
      "source": [
        "model.evaluate(test_data)"
      ],
      "metadata": {
        "colab": {
          "base_uri": "https://localhost:8080/"
        },
        "id": "b-PWREZ6jPVn",
        "outputId": "9e02c610-3a6d-4db1-e61b-137fb7c305d2"
      },
      "execution_count": null,
      "outputs": [
        {
          "output_type": "stream",
          "name": "stdout",
          "text": [
            "782/782 [==============================] - 20s 25ms/step - loss: 0.7094 - accuracy: 0.7566\n"
          ]
        },
        {
          "output_type": "execute_result",
          "data": {
            "text/plain": [
              "[0.7094032168388367, 0.756600022315979]"
            ]
          },
          "metadata": {},
          "execution_count": 15
        }
      ]
    },
    {
      "cell_type": "code",
      "source": [
        "text='I love this movie !'"
      ],
      "metadata": {
        "id": "so87N4cwkzfo"
      },
      "execution_count": null,
      "outputs": []
    },
    {
      "cell_type": "code",
      "source": [
        "model.predict([text])"
      ],
      "metadata": {
        "colab": {
          "base_uri": "https://localhost:8080/"
        },
        "id": "sD6dRwKEk-EZ",
        "outputId": "c473d695-9e42-47d3-dd8b-944f6c356b23"
      },
      "execution_count": null,
      "outputs": [
        {
          "output_type": "stream",
          "name": "stdout",
          "text": [
            "1/1 [==============================] - 1s 682ms/step\n"
          ]
        },
        {
          "output_type": "execute_result",
          "data": {
            "text/plain": [
              "array([[0.92990565]], dtype=float32)"
            ]
          },
          "metadata": {},
          "execution_count": 17
        }
      ]
    },
    {
      "cell_type": "code",
      "source": [],
      "metadata": {
        "id": "Lz7dOM19lA70"
      },
      "execution_count": null,
      "outputs": []
    }
  ]
}