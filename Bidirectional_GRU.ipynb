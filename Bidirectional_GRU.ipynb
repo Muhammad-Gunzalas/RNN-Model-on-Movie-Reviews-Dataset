{
  "nbformat": 4,
  "nbformat_minor": 0,
  "metadata": {
    "colab": {
      "provenance": [],
      "mount_file_id": "1YK5fbmw0ztEaiDp2UCqHi1ifh7egvO5i",
      "authorship_tag": "ABX9TyM8Ye5mv7PUvaN/bE7suZVY",
      "include_colab_link": true
    },
    "kernelspec": {
      "name": "python3",
      "display_name": "Python 3"
    },
    "language_info": {
      "name": "python"
    }
  },
  "cells": [
    {
      "cell_type": "markdown",
      "metadata": {
        "id": "view-in-github",
        "colab_type": "text"
      },
      "source": [
        "<a href=\"https://colab.research.google.com/github/Muhammad-Gunzalas/RNN-Model-on-Movie-Reviews-Dataset/blob/main/Bidirectional_GRU.ipynb\" target=\"_parent\"><img src=\"https://colab.research.google.com/assets/colab-badge.svg\" alt=\"Open In Colab\"/></a>"
      ]
    },
    {
      "cell_type": "code",
      "source": [
        
      ],
      "metadata": {
        "id": "FZqFv2BVfUdM"
      },
      "execution_count": null,
      "outputs": []
    },
    {
      "cell_type": "code",
      "execution_count": null,
      "metadata": {
        "id": "Z5ekDM5hWjoc",
        "colab": {
          "base_uri": "https://localhost:8080/"
        },
        "outputId": "b5268718-ac30-4e17-eadf-d922d1569632"
      },
      "outputs": [
        {
          "output_type": "stream",
          "name": "stdout",
          "text": [
            "--2022-10-19 19:35:59--  https://www.dropbox.com/s/pdhwlpi2yeie0ol/movie-reviews-dataset.zip\n",
            "Resolving www.dropbox.com (www.dropbox.com)... 162.125.1.18, 2620:100:6016:18::a27d:112\n",
            "Connecting to www.dropbox.com (www.dropbox.com)|162.125.1.18|:443... connected.\n",
            "HTTP request sent, awaiting response... 302 Found\n",
            "Location: /s/raw/pdhwlpi2yeie0ol/movie-reviews-dataset.zip [following]\n",
            "--2022-10-19 19:36:00--  https://www.dropbox.com/s/raw/pdhwlpi2yeie0ol/movie-reviews-dataset.zip\n",
            "Reusing existing connection to www.dropbox.com:443.\n",
            "HTTP request sent, awaiting response... 302 Found\n",
            "Location: https://uc18528d9a02a94c13371652b200.dl.dropboxusercontent.com/cd/0/inline/BvK7dz6g79vRTMIVR-y7VCdY2WYLJfy6SS2oZdeuaLIUSq2apyYEkokIEvnD6Ecok19AfRW1q6rfLeoKhMWysL3OSzoGJr4-brR0VUUvBGx8J0pGy_mbhsOsdMR5xJNljPhqJr6yirpzj9AH-uL8xa7il7UoOBPwYfFjT4-2IfrsRw/file# [following]\n",
            "--2022-10-19 19:36:00--  https://uc18528d9a02a94c13371652b200.dl.dropboxusercontent.com/cd/0/inline/BvK7dz6g79vRTMIVR-y7VCdY2WYLJfy6SS2oZdeuaLIUSq2apyYEkokIEvnD6Ecok19AfRW1q6rfLeoKhMWysL3OSzoGJr4-brR0VUUvBGx8J0pGy_mbhsOsdMR5xJNljPhqJr6yirpzj9AH-uL8xa7il7UoOBPwYfFjT4-2IfrsRw/file\n",
            "Resolving uc18528d9a02a94c13371652b200.dl.dropboxusercontent.com (uc18528d9a02a94c13371652b200.dl.dropboxusercontent.com)... 162.125.1.15, 2620:100:6016:15::a27d:10f\n",
            "Connecting to uc18528d9a02a94c13371652b200.dl.dropboxusercontent.com (uc18528d9a02a94c13371652b200.dl.dropboxusercontent.com)|162.125.1.15|:443... connected.\n",
            "HTTP request sent, awaiting response... 302 Found\n",
            "Location: /cd/0/inline2/BvJDjm0fMrvi2os_lhC6l-6f2Mg6wMVXChschOukz1wW5Uq6w8M9w89bSXMGICotY1JVRpsefvodxmZPnpJzicqBXPVBoLkY96WdPsBzu_dgOZQHBQA_my4HrtSc5o9L0pGCueh21_AkvKoR8-AN0-BNdyMyASruop0QyLb71bSZzb9_zDVs2D_XMU6xGpo8woMfO8zHAHuK-eG2Xq7Gw4aUhL2eQr2hRgIbhCYcap1gwZdr05PU8Y5zTHfsGydOQwZrRA8oIsbEPYZ1_kllxvtycnlknvBehCpcCzqqB6KTEV2aJscOydG14paE4wYmkFinZDDVyGwJvl1PRU1YOgh4n3YWXFSK8ZgmYO9izjl9uXzQlPLkrTuGOqE1dEGP159Ky-_x4FrBf4fNiVo7rbhWP_t9FA85zspUXe6DO2qJlg/file [following]\n",
            "--2022-10-19 19:36:00--  https://uc18528d9a02a94c13371652b200.dl.dropboxusercontent.com/cd/0/inline2/BvJDjm0fMrvi2os_lhC6l-6f2Mg6wMVXChschOukz1wW5Uq6w8M9w89bSXMGICotY1JVRpsefvodxmZPnpJzicqBXPVBoLkY96WdPsBzu_dgOZQHBQA_my4HrtSc5o9L0pGCueh21_AkvKoR8-AN0-BNdyMyASruop0QyLb71bSZzb9_zDVs2D_XMU6xGpo8woMfO8zHAHuK-eG2Xq7Gw4aUhL2eQr2hRgIbhCYcap1gwZdr05PU8Y5zTHfsGydOQwZrRA8oIsbEPYZ1_kllxvtycnlknvBehCpcCzqqB6KTEV2aJscOydG14paE4wYmkFinZDDVyGwJvl1PRU1YOgh4n3YWXFSK8ZgmYO9izjl9uXzQlPLkrTuGOqE1dEGP159Ky-_x4FrBf4fNiVo7rbhWP_t9FA85zspUXe6DO2qJlg/file\n",
            "Reusing existing connection to uc18528d9a02a94c13371652b200.dl.dropboxusercontent.com:443.\n",
            "HTTP request sent, awaiting response... 200 OK\n",
            "Length: 62951389 (60M) [application/zip]\n",
            "Saving to: ‘movie-reviews-dataset.zip’\n",
            "\n",
            "movie-reviews-datas 100%[===================>]  60.03M   131MB/s    in 0.5s    \n",
            "\n",
            "2022-10-19 19:36:01 (131 MB/s) - ‘movie-reviews-dataset.zip’ saved [62951389/62951389]\n",
            "\n"
          ]
        }
      ],
      "source": [
        "!wget https://www.dropbox.com/s/pdhwlpi2yeie0ol/movie-reviews-dataset.zip"
      ]
    },
    {
      "cell_type": "code",
      "source": [
        "!unzip -q \"/content/movie-reviews-dataset.zip\""
      ],
      "metadata": {
        "id": "dB7vmQMvbMj_"
      },
      "execution_count": null,
      "outputs": []
    },
    {
      "cell_type": "code",
      "source": [
        "from tensorflow.keras.preprocessing import text_dataset_from_directory\n",
        "from tensorflow.strings import regex_replace\n",
        "from tensorflow.keras.layers.experimental.preprocessing import TextVectorization\n",
        "from tensorflow.keras.models import Sequential\n",
        "from tensorflow.keras import Input\n",
        "from tensorflow.keras.layers import Dense, GRU, SimpleRNNCell, Embedding, Dropout ,Bidirectional"
      ],
      "metadata": {
        "id": "H7Uv87cPcC0u"
      },
      "execution_count": null,
      "outputs": []
    },
    {
      "cell_type": "code",
      "source": [
        "def prepareData(dir):\n",
        "  data=text_dataset_from_directory(dir)\n",
        "  return data.map(\n",
        "      lambda text,label :(regex_replace(text,\"<br />\", ' '),label),\n",
        "  )"
      ],
      "metadata": {
        "id": "hUm1Ihi9dIzS"
      },
      "execution_count": null,
      "outputs": []
    },
    {
      "cell_type": "code",
      "source": [
        "train_data=prepareData(\"movie-reviews-dataset/train\")\n",
        "test_data=prepareData(\"movie-reviews-dataset/test\")\n",
        "for text_batch,label_batch in train_data.take(1):\n",
        "  print(text_batch.numpy()[0])\n",
        "  print(label_batch.numpy()[0])"
      ],
      "metadata": {
        "colab": {
          "base_uri": "https://localhost:8080/"
        },
        "id": "wi-g1bR_edIU",
        "outputId": "4dced77b-73f3-4322-b8bc-f3fc00f2b53b"
      },
      "execution_count": null,
      "outputs": [
        {
          "output_type": "stream",
          "name": "stdout",
          "text": [
            "Found 25000 files belonging to 2 classes.\n",
            "Found 25000 files belonging to 2 classes.\n",
            "b\"God this film was just so boring apart from the music which i really loved, i mean what was the point in actually making this movie please anyone who reads this review do not watch this film, it is a waste of time.  Emraan can act but was really pathetic In this film, i am actually ashamed to be one of his fans especially in this movie, it was just really bad.  Celina is just another pretty face with no lack of talent what so ever, she can't act at all, and there was no point of her being in this film, as for the other girl Radha she was okay i guess but could have done better.  what a waste of time. please buy the great music and don't watch this movie.\"\n",
            "0\n"
          ]
        }
      ]
    },
    {
      "cell_type": "code",
      "source": [
        "for text_batch,label_batch in train_data.take(1):\n",
        "  print(text_batch.numpy()[0])\n",
        "  print(label_batch.numpy()[0])"
      ],
      "metadata": {
        "colab": {
          "base_uri": "https://localhost:8080/"
        },
        "id": "GnqIYmKUe3Dm",
        "outputId": "97b88728-7a50-4a43-a2b1-8de08933047e"
      },
      "execution_count": null,
      "outputs": [
        {
          "output_type": "stream",
          "name": "stdout",
          "text": [
            "b\"A great film. The acting - from the doctor to the pavement artist to the head prostitute, with very few exceptions, was wonderful; i thought soni razdan(mrs.noble) and vrajesh hirjee(saurabh) were the best of the lesser known actors. Even Kurush Deboo (Tehmul), who might be accused of overacting, presented quite a believable and familiar character.  Another great thing was the camera work - and the way it captured the energy of bombay streets, the tranquility of gustad saying his prayers and life within the tiny apartments.  I liked the story of the wall that becomes a shrine and then gets broken down - and the artists philosophical take on it.  It's great to see good movies on indian themes.\"\n",
            "1\n"
          ]
        }
      ]
    },
    {
      "cell_type": "code",
      "source": [
        "model=Sequential()"
      ],
      "metadata": {
        "id": "NLTweI2ffLiQ"
      },
      "execution_count": null,
      "outputs": []
    },
    {
      "cell_type": "code",
      "source": [
        "model.add(Input(shape=(1,),dtype=\"string\"))"
      ],
      "metadata": {
        "id": "1rWWiQM8gRkD"
      },
      "execution_count": null,
      "outputs": []
    },
    {
      "cell_type": "code",
      "source": [
        "max_tokens=1000\n",
        "max_len=100\n",
        "vectorize_layer=TextVectorization(\n",
        "    max_tokens=max_tokens,\n",
        "    output_mode='int',\n",
        "    output_sequence_length=max_len,\n",
        ")"
      ],
      "metadata": {
        "id": "4RJUgE4cgiGC"
      },
      "execution_count": null,
      "outputs": []
    },
    {
      "cell_type": "code",
      "source": [
        "train_texts=train_data.map(lambda text,label:text)\n",
        "vectorize_layer.adapt(train_texts)\n",
        "model.add(vectorize_layer)"
      ],
      "metadata": {
        "id": "K6164mivhFQm"
      },
      "execution_count": null,
      "outputs": []
    },
    {
      "cell_type": "code",
      "source": [
        "model.add(Embedding(max_tokens+1,128))\n",
        "\n",
        "#rnn=RNN(SimpleRNNCell(64),return_sequences=False,return_state=False)\n",
        "model.add(Bidirectional(GRU(64)))\n",
        "model.add(Dense(64,activation='relu'))\n",
        "model.add(Dense(1,activation='sigmoid'))"
      ],
      "metadata": {
        "id": "Y53fFk-uhi_7"
      },
      "execution_count": null,
      "outputs": []
    },
    {
      "cell_type": "code",
      "source": [
        "model.compile(loss='binary_crossentropy',optimizer='adam',metrics=['accuracy'])"
      ],
      "metadata": {
        "id": "ND1UczakizR2"
      },
      "execution_count": null,
      "outputs": []
    },
    {
      "cell_type": "code",
      "source": [
        "model.fit(train_data,epochs=10)"
      ],
      "metadata": {
        "colab": {
          "base_uri": "https://localhost:8080/"
        },
        "id": "qsH-DS8IjH6q",
        "outputId": "0684df68-c7f8-4426-aa87-99140efba7dd"
      },
      "execution_count": null,
      "outputs": [
        {
          "output_type": "stream",
          "name": "stdout",
          "text": [
            "Epoch 1/10\n",
            "782/782 [==============================] - 104s 127ms/step - loss: 0.5394 - accuracy: 0.7135\n",
            "Epoch 2/10\n",
            "782/782 [==============================] - 97s 125ms/step - loss: 0.4322 - accuracy: 0.8015\n",
            "Epoch 3/10\n",
            "782/782 [==============================] - 99s 126ms/step - loss: 0.3932 - accuracy: 0.8200\n",
            "Epoch 4/10\n",
            "782/782 [==============================] - 101s 129ms/step - loss: 0.3619 - accuracy: 0.8372\n",
            "Epoch 5/10\n",
            "782/782 [==============================] - 100s 128ms/step - loss: 0.3347 - accuracy: 0.8508\n",
            "Epoch 6/10\n",
            "782/782 [==============================] - 101s 129ms/step - loss: 0.3054 - accuracy: 0.8674\n",
            "Epoch 7/10\n",
            "782/782 [==============================] - 102s 130ms/step - loss: 0.2741 - accuracy: 0.8815\n",
            "Epoch 8/10\n",
            "782/782 [==============================] - 98s 126ms/step - loss: 0.2414 - accuracy: 0.8978\n",
            "Epoch 9/10\n",
            "782/782 [==============================] - 101s 129ms/step - loss: 0.2083 - accuracy: 0.9123\n",
            "Epoch 10/10\n",
            "782/782 [==============================] - 101s 129ms/step - loss: 0.1781 - accuracy: 0.9267\n"
          ]
        },
        {
          "output_type": "execute_result",
          "data": {
            "text/plain": [
              "<keras.callbacks.History at 0x7f64b2aadc90>"
            ]
          },
          "metadata": {},
          "execution_count": 14
        }
      ]
    },
    {
      "cell_type": "code",
      "source": [
        "model.evaluate(test_data)"
      ],
      "metadata": {
        "colab": {
          "base_uri": "https://localhost:8080/"
        },
        "id": "b-PWREZ6jPVn",
        "outputId": "74a84f8d-9b29-4579-d274-70bb92fab0f7"
      },
      "execution_count": null,
      "outputs": [
        {
          "output_type": "stream",
          "name": "stdout",
          "text": [
            "782/782 [==============================] - 29s 36ms/step - loss: 0.8046 - accuracy: 0.7652\n"
          ]
        },
        {
          "output_type": "execute_result",
          "data": {
            "text/plain": [
              "[0.8045731782913208, 0.7652000188827515]"
            ]
          },
          "metadata": {},
          "execution_count": 15
        }
      ]
    },
    {
      "cell_type": "code",
      "source": [
        "text='I love this movie !'"
      ],
      "metadata": {
        "id": "so87N4cwkzfo"
      },
      "execution_count": null,
      "outputs": []
    },
    {
      "cell_type": "code",
      "source": [
        "model.predict([text])"
      ],
      "metadata": {
        "colab": {
          "base_uri": "https://localhost:8080/"
        },
        "id": "sD6dRwKEk-EZ",
        "outputId": "66605606-4b49-4095-f6ed-de80e92f93a4"
      },
      "execution_count": null,
      "outputs": [
        {
          "output_type": "stream",
          "name": "stdout",
          "text": [
            "1/1 [==============================] - 1s 840ms/step\n"
          ]
        },
        {
          "output_type": "execute_result",
          "data": {
            "text/plain": [
              "array([[0.9449697]], dtype=float32)"
            ]
          },
          "metadata": {},
          "execution_count": 17
        }
      ]
    },
    {
      "cell_type": "code",
      "source": [],
      "metadata": {
        "id": "Lz7dOM19lA70"
      },
      "execution_count": null,
      "outputs": []
    }
  ]
}
