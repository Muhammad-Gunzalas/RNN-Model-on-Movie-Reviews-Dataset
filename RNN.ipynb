{
  "nbformat": 4,
  "nbformat_minor": 0,
  "metadata": {
    "colab": {
      "provenance": [],
      "mount_file_id": "1YK5fbmw0ztEaiDp2UCqHi1ifh7egvO5i",
      "authorship_tag": "ABX9TyMq0QXV7ofk8ialEZjbel15",
      "include_colab_link": true
    },
    "kernelspec": {
      "name": "python3",
      "display_name": "Python 3"
    },
    "language_info": {
      "name": "python"
    }
  },
  "cells": [
    {
      "cell_type": "markdown",
      "metadata": {
        "id": "view-in-github",
        "colab_type": "text"
      },
      "source": [
        "<a href=\"https://colab.research.google.com/github/Muhammad-Gunzalas/RNN-Model-on-Movie-Reviews-Dataset/blob/main/RNN.ipynb\" target=\"_parent\"><img src=\"https://colab.research.google.com/assets/colab-badge.svg\" alt=\"Open In Colab\"/></a>"
      ]
    },
    {
      "cell_type": "code",
      "source": [
       
      ],
      "metadata": {
        "id": "FZqFv2BVfUdM"
      },
      "execution_count": null,
      "outputs": []
    },
    {
      "cell_type": "code",
      "execution_count": null,
      "metadata": {
        "id": "Z5ekDM5hWjoc",
        "colab": {
          "base_uri": "https://localhost:8080/"
        },
        "outputId": "1b15e6da-b12c-42bb-e4bc-322e7466dc00"
      },
      "outputs": [
        {
          "output_type": "stream",
          "name": "stdout",
          "text": [
            "--2022-10-19 18:06:45--  https://www.dropbox.com/s/pdhwlpi2yeie0ol/movie-reviews-dataset.zip\n",
            "Resolving www.dropbox.com (www.dropbox.com)... 162.125.6.18, 2620:100:6019:18::a27d:412\n",
            "Connecting to www.dropbox.com (www.dropbox.com)|162.125.6.18|:443... connected.\n",
            "HTTP request sent, awaiting response... 302 Found\n",
            "Location: /s/raw/pdhwlpi2yeie0ol/movie-reviews-dataset.zip [following]\n",
            "--2022-10-19 18:06:46--  https://www.dropbox.com/s/raw/pdhwlpi2yeie0ol/movie-reviews-dataset.zip\n",
            "Reusing existing connection to www.dropbox.com:443.\n",
            "HTTP request sent, awaiting response... 302 Found\n",
            "Location: https://ucf1ab19e2346fd19d94e3b6a4d8.dl.dropboxusercontent.com/cd/0/inline/BvK0mfitfWEAdCBB9GExcVoxwJT2HD3GNRJnDM2fuuDr1vAoLSMVugkaatcwh5sHGdYMd2Zxq3LNFjMl9RNfb-XZMhTKHB8tMGCXHW2YGrK834anh1Ja-bHf2WWrrbcAexhifDcOhZBFkhtRBji8f1B0arkNuyD8riNR9JnmI8gFQA/file# [following]\n",
            "--2022-10-19 18:06:46--  https://ucf1ab19e2346fd19d94e3b6a4d8.dl.dropboxusercontent.com/cd/0/inline/BvK0mfitfWEAdCBB9GExcVoxwJT2HD3GNRJnDM2fuuDr1vAoLSMVugkaatcwh5sHGdYMd2Zxq3LNFjMl9RNfb-XZMhTKHB8tMGCXHW2YGrK834anh1Ja-bHf2WWrrbcAexhifDcOhZBFkhtRBji8f1B0arkNuyD8riNR9JnmI8gFQA/file\n",
            "Resolving ucf1ab19e2346fd19d94e3b6a4d8.dl.dropboxusercontent.com (ucf1ab19e2346fd19d94e3b6a4d8.dl.dropboxusercontent.com)... 162.125.6.15, 2620:100:6019:15::a27d:40f\n",
            "Connecting to ucf1ab19e2346fd19d94e3b6a4d8.dl.dropboxusercontent.com (ucf1ab19e2346fd19d94e3b6a4d8.dl.dropboxusercontent.com)|162.125.6.15|:443... connected.\n",
            "HTTP request sent, awaiting response... 302 Found\n",
            "Location: /cd/0/inline2/BvKAiF4_ttH7sYkZeWnvXiiuKSPoBPiEswKaYeEkPEmGr_k70wvlbpB0NWh4VyZBCedknCnIFG5WVLTOKWnNvK0SWsgudWB4NPgRkxXcLj_wlqiDbyAj9zidzFYIvbgAVdsS8Ynamhzo7yKc6HPL5Gm7HtM7YrVUh3gnGCRFBjckre3tFs32Viv7gWlyqHZ59pZnW8Z4b63swe9aBXV9ynpVQkBJb8MM3jKxsg47xR9bsHTq1hN-sgK3q0thktoSByEpc8nCTEFO4jbmBjjHFjzV8EmOHIvkd0DOD_OO0l4MjRNk5Xsj8KuoPLL9HkoxwQESYTYIei-TasL_nFE8UqWp64G4LjabkPkAxW07KP1vCi9DReKh4LxXPHfuaE9nfuA3HU2A5cIhZovYBFt9HMPQSWMMY0cfy-4hHnKCIPPgbQ/file [following]\n",
            "--2022-10-19 18:06:47--  https://ucf1ab19e2346fd19d94e3b6a4d8.dl.dropboxusercontent.com/cd/0/inline2/BvKAiF4_ttH7sYkZeWnvXiiuKSPoBPiEswKaYeEkPEmGr_k70wvlbpB0NWh4VyZBCedknCnIFG5WVLTOKWnNvK0SWsgudWB4NPgRkxXcLj_wlqiDbyAj9zidzFYIvbgAVdsS8Ynamhzo7yKc6HPL5Gm7HtM7YrVUh3gnGCRFBjckre3tFs32Viv7gWlyqHZ59pZnW8Z4b63swe9aBXV9ynpVQkBJb8MM3jKxsg47xR9bsHTq1hN-sgK3q0thktoSByEpc8nCTEFO4jbmBjjHFjzV8EmOHIvkd0DOD_OO0l4MjRNk5Xsj8KuoPLL9HkoxwQESYTYIei-TasL_nFE8UqWp64G4LjabkPkAxW07KP1vCi9DReKh4LxXPHfuaE9nfuA3HU2A5cIhZovYBFt9HMPQSWMMY0cfy-4hHnKCIPPgbQ/file\n",
            "Reusing existing connection to ucf1ab19e2346fd19d94e3b6a4d8.dl.dropboxusercontent.com:443.\n",
            "HTTP request sent, awaiting response... 200 OK\n",
            "Length: 62951389 (60M) [application/zip]\n",
            "Saving to: ‘movie-reviews-dataset.zip’\n",
            "\n",
            "movie-reviews-datas 100%[===================>]  60.03M   117MB/s    in 0.5s    \n",
            "\n",
            "2022-10-19 18:06:47 (117 MB/s) - ‘movie-reviews-dataset.zip’ saved [62951389/62951389]\n",
            "\n"
          ]
        }
      ],
      "source": [
        "!wget https://www.dropbox.com/s/pdhwlpi2yeie0ol/movie-reviews-dataset.zip"
      ]
    },
    {
      "cell_type": "code",
      "source": [
        "!unzip -q \"/content/movie-reviews-dataset.zip\""
      ],
      "metadata": {
        "id": "dB7vmQMvbMj_"
      },
      "execution_count": null,
      "outputs": []
    },
    {
      "cell_type": "code",
      "source": [
        "from tensorflow.keras.preprocessing import text_dataset_from_directory\n",
        "from tensorflow.strings import regex_replace\n",
        "from tensorflow.keras.layers.experimental.preprocessing import TextVectorization\n",
        "from tensorflow.keras.models import Sequential\n",
        "from tensorflow.keras import Input\n",
        "from tensorflow.keras.layers import Dense, RNN, SimpleRNNCell, Embedding, Dropout"
      ],
      "metadata": {
        "id": "H7Uv87cPcC0u"
      },
      "execution_count": null,
      "outputs": []
    },
    {
      "cell_type": "code",
      "source": [
        "def prepareData(dir):\n",
        "  data=text_dataset_from_directory(dir)\n",
        "  return data.map(\n",
        "      lambda text,label :(regex_replace(text,\"<br />\", ' '),label),\n",
        "  )"
      ],
      "metadata": {
        "id": "hUm1Ihi9dIzS"
      },
      "execution_count": null,
      "outputs": []
    },
    {
      "cell_type": "code",
      "source": [
        "train_data=prepareData(\"movie-reviews-dataset/train\")\n",
        "test_data=prepareData(\"movie-reviews-dataset/test\")\n",
        "for text_batch,label_batch in train_data.take(1):\n",
        "  print(text_batch.numpy()[0])\n",
        "  print(label_batch.numpy()[0])"
      ],
      "metadata": {
        "colab": {
          "base_uri": "https://localhost:8080/"
        },
        "id": "wi-g1bR_edIU",
        "outputId": "28bec7b0-7fa0-4c09-8dbb-b87b7299036b"
      },
      "execution_count": null,
      "outputs": [
        {
          "output_type": "stream",
          "name": "stdout",
          "text": [
            "Found 25000 files belonging to 2 classes.\n",
            "Found 25000 files belonging to 2 classes.\n",
            "b'This is the worst movie I have ever seen. The Avengers held this dubious honor\\xc2\\x85 but no longer. The acting in \"Jill the Ripper\" is terrible and was only eclipsed by the plot. This movie is as intellectually stimulating as the Telletubbes. It doesn\\'t know whether it wants to be an S&M flick or a really bad thriller. Only watch under extreme intoxication or if you\\'re bed ridden and need a leather clad distraction. This script should be reworked into a porn, it wouldn\\'t take very much effort and would have a longer shelf life. A porn, even a bad porn, wouldn\\'t do the damage to Dolf Lundgren\\'s career the way that this movie has.'\n",
            "0\n"
          ]
        }
      ]
    },
    {
      "cell_type": "code",
      "source": [
        "for text_batch,label_batch in train_data.take(1):\n",
        "  print(text_batch.numpy()[0])\n",
        "  print(label_batch.numpy()[0])"
      ],
      "metadata": {
        "colab": {
          "base_uri": "https://localhost:8080/"
        },
        "id": "GnqIYmKUe3Dm",
        "outputId": "d349d0cb-4749-408d-8057-8a1bee0acd80"
      },
      "execution_count": null,
      "outputs": [
        {
          "output_type": "stream",
          "name": "stdout",
          "text": [
            "b\"This is simply the most astonishing movie you will ever see. I thought it was just another documentary, but it really is something else. It doesn't try to teach you anything, it shows you how life works in nature.  I won't talk about the quality of the pictures, because you obviously know from other comments it is unmatched.  Earth is funny, tense and sad. It can make you laugh, it can make you cry. Sometimes both at the same time. This is the first movie that made me cry, not because you feel sorry for the animals, but because you come to realise how fragile our planet is and what treasure we were blessed with, yet we don't appreciate it one bit.  This movie should be shown obligatory in schools. It is the most wonderful film you will ever see, so go and see it. Who knows, maybe it is the last time we might see our planet like this...  10/10, but I would easily rate it more if it were possible.\"\n",
            "1\n"
          ]
        }
      ]
    },
    {
      "cell_type": "code",
      "source": [
        "model=Sequential()"
      ],
      "metadata": {
        "id": "NLTweI2ffLiQ"
      },
      "execution_count": null,
      "outputs": []
    },
    {
      "cell_type": "code",
      "source": [
        "model.add(Input(shape=(1,),dtype=\"string\"))"
      ],
      "metadata": {
        "id": "1rWWiQM8gRkD"
      },
      "execution_count": null,
      "outputs": []
    },
    {
      "cell_type": "code",
      "source": [
        "max_tokens=1000\n",
        "max_len=100\n",
        "vectorize_layer=TextVectorization(\n",
        "    max_tokens=max_tokens,\n",
        "    output_mode='int',\n",
        "    output_sequence_length=max_len,\n",
        ")"
      ],
      "metadata": {
        "id": "4RJUgE4cgiGC"
      },
      "execution_count": null,
      "outputs": []
    },
    {
      "cell_type": "code",
      "source": [
        "train_texts=train_data.map(lambda text,label:text)\n",
        "vectorize_layer.adapt(train_texts)\n",
        "model.add(vectorize_layer)"
      ],
      "metadata": {
        "id": "K6164mivhFQm"
      },
      "execution_count": null,
      "outputs": []
    },
    {
      "cell_type": "code",
      "source": [
        "model.add(Embedding(max_tokens+1,128))\n",
        "\n",
        "rnn=RNN(SimpleRNNCell(64),return_sequences=False,return_state=False)\n",
        "model.add(rnn)\n",
        "model.add(Dense(64,activation='relu'))\n",
        "model.add(Dense(1,activation='sigmoid'))"
      ],
      "metadata": {
        "id": "Y53fFk-uhi_7"
      },
      "execution_count": null,
      "outputs": []
    },
    {
      "cell_type": "code",
      "source": [
        "model.compile(loss='binary_crossentropy',optimizer='adam',metrics=['accuracy'])"
      ],
      "metadata": {
        "id": "ND1UczakizR2"
      },
      "execution_count": null,
      "outputs": []
    },
    {
      "cell_type": "code",
      "source": [
        "model.fit(train_data,epochs=10)"
      ],
      "metadata": {
        "colab": {
          "base_uri": "https://localhost:8080/"
        },
        "id": "qsH-DS8IjH6q",
        "outputId": "31d7ba87-c6db-4bdc-b360-273b12bb2a06"
      },
      "execution_count": null,
      "outputs": [
        {
          "output_type": "stream",
          "name": "stdout",
          "text": [
            "Epoch 1/10\n"
          ]
        },
        {
          "output_type": "stream",
          "name": "stderr",
          "text": [
            "WARNING:tensorflow:Gradients do not exist for variables ['embedding/embeddings:0', 'rnn/simple_rnn_cell/kernel:0', 'rnn/simple_rnn_cell/recurrent_kernel:0', 'rnn/simple_rnn_cell/bias:0'] when minimizing the loss. If you're using `model.compile()`, did you forget to provide a `loss`argument?\n",
            "WARNING:tensorflow:Gradients do not exist for variables ['embedding/embeddings:0', 'rnn/simple_rnn_cell/kernel:0', 'rnn/simple_rnn_cell/recurrent_kernel:0', 'rnn/simple_rnn_cell/bias:0'] when minimizing the loss. If you're using `model.compile()`, did you forget to provide a `loss`argument?\n"
          ]
        },
        {
          "output_type": "stream",
          "name": "stdout",
          "text": [
            "782/782 [==============================] - 26s 31ms/step - loss: 0.6939 - accuracy: 0.4997\n",
            "Epoch 2/10\n",
            "782/782 [==============================] - 24s 31ms/step - loss: 0.6983 - accuracy: 0.4981\n",
            "Epoch 3/10\n",
            "782/782 [==============================] - 25s 32ms/step - loss: 0.6976 - accuracy: 0.5022\n",
            "Epoch 4/10\n",
            "782/782 [==============================] - 24s 31ms/step - loss: 0.6962 - accuracy: 0.4964\n",
            "Epoch 5/10\n",
            "782/782 [==============================] - 24s 31ms/step - loss: 0.6938 - accuracy: 0.5010\n",
            "Epoch 6/10\n",
            "782/782 [==============================] - 24s 31ms/step - loss: 0.6936 - accuracy: 0.5006\n",
            "Epoch 7/10\n",
            "782/782 [==============================] - 24s 31ms/step - loss: 0.6934 - accuracy: 0.5034\n",
            "Epoch 8/10\n",
            "782/782 [==============================] - 25s 32ms/step - loss: 0.6933 - accuracy: 0.4979\n",
            "Epoch 9/10\n",
            "782/782 [==============================] - 26s 33ms/step - loss: 0.6932 - accuracy: 0.4986\n",
            "Epoch 10/10\n",
            "782/782 [==============================] - 24s 31ms/step - loss: 0.6932 - accuracy: 0.4987\n"
          ]
        },
        {
          "output_type": "execute_result",
          "data": {
            "text/plain": [
              "<keras.callbacks.History at 0x7f27fb7af350>"
            ]
          },
          "metadata": {},
          "execution_count": 23
        }
      ]
    },
    {
      "cell_type": "code",
      "source": [
        "model.evaluate(test_data)"
      ],
      "metadata": {
        "colab": {
          "base_uri": "https://localhost:8080/"
        },
        "id": "b-PWREZ6jPVn",
        "outputId": "fae371ec-7ce8-4379-9136-46d520c3bf67"
      },
      "execution_count": null,
      "outputs": [
        {
          "output_type": "stream",
          "name": "stdout",
          "text": [
            "782/782 [==============================] - 15s 18ms/step - loss: 0.6931 - accuracy: 0.5000\n"
          ]
        },
        {
          "output_type": "execute_result",
          "data": {
            "text/plain": [
              "[0.6931484937667847, 0.5]"
            ]
          },
          "metadata": {},
          "execution_count": 24
        }
      ]
    },
    {
      "cell_type": "code",
      "source": [
        "text='I love this movie !'"
      ],
      "metadata": {
        "id": "so87N4cwkzfo"
      },
      "execution_count": null,
      "outputs": []
    },
    {
      "cell_type": "code",
      "source": [
        "model.predict([text])"
      ],
      "metadata": {
        "colab": {
          "base_uri": "https://localhost:8080/"
        },
        "id": "sD6dRwKEk-EZ",
        "outputId": "c3655eab-8a10-40de-fb98-ea24b8429dd5"
      },
      "execution_count": null,
      "outputs": [
        {
          "output_type": "stream",
          "name": "stdout",
          "text": [
            "1/1 [==============================] - 0s 31ms/step\n"
          ]
        },
        {
          "output_type": "execute_result",
          "data": {
            "text/plain": [
              "array([[0.4995761]], dtype=float32)"
            ]
          },
          "metadata": {},
          "execution_count": 29
        }
      ]
    },
    {
      "cell_type": "code",
      "source": [],
      "metadata": {
        "id": "Lz7dOM19lA70"
      },
      "execution_count": null,
      "outputs": []
    }
  ]
}
